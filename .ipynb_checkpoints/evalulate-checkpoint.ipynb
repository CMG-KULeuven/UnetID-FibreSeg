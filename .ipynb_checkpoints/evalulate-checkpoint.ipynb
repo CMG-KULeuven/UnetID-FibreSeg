{
 "cells": [
  {
   "cell_type": "markdown",
   "id": "c6a6ab34-c154-461e-92e8-546f2660d1d9",
   "metadata": {},
   "source": [
    "# Evaluate the segmentation results\n",
    "- Author: Rui Guo (KU Leuven), rui.guo1@kuleuven.be\n",
    "- Date: Jan 2023"
   ]
  },
  {
   "cell_type": "markdown",
   "id": "b618cf0f-c779-4390-8df8-23c46d49d2e9",
   "metadata": {},
   "source": [
    "## Import packages"
   ]
  },
  {
   "cell_type": "code",
   "execution_count": 1,
   "id": "734ea9c2-eade-41f2-891b-7b3c124c6f8f",
   "metadata": {},
   "outputs": [],
   "source": [
    "import numpy as np\n",
    "import fibresegt as fs\n",
    "import matplotlib.pyplot as plt"
   ]
  },
  {
   "cell_type": "markdown",
   "id": "b845629e-24a9-4e37-a2d9-21a817d6c206",
   "metadata": {},
   "source": [
    "## Path for output"
   ]
  },
  {
   "cell_type": "code",
   "execution_count": 2,
   "id": "7ba137f5-4cac-4149-b06d-9ee3ae19d40f",
   "metadata": {},
   "outputs": [
    {
     "name": "stdout",
     "output_type": "stream",
     "text": [
      "./output/demo/evaluate/multiple_slices2D_results/\n"
     ]
    }
   ],
   "source": [
    "output_dir = './output/demo/'\n",
    "evaluate_dir = fs.join(output_dir, 'evaluate/multiple_slices2D_results/')\n",
    "fs.mkdir(evaluate_dir)\n",
    "print(evaluate_dir)"
   ]
  },
  {
   "cell_type": "markdown",
   "id": "fabfa7e9-5138-4306-bbcb-8c7f9b730976",
   "metadata": {},
   "source": [
    "##  Load grayscale image"
   ]
  },
  {
   "cell_type": "markdown",
   "id": "3662dba1-6e28-4b0f-8db7-714e89f9a134",
   "metadata": {},
   "source": [
    "### In case your data are saved as images"
   ]
  },
  {
   "cell_type": "code",
   "execution_count": 3,
   "id": "32ab1b9c-fc8f-4263-b14b-05ca0c57ac1c",
   "metadata": {},
   "outputs": [],
   "source": [
    "# dataset_folder = './data/demo/data_group/images/'\n",
    "# orig_3Ddata, ids_3Ddata = fs.load_3d_dataset(dataset_folder)\n",
    "# orig_3Ddata = orig_3Ddata[ids_3Ddata[0]]"
   ]
  },
  {
   "cell_type": "markdown",
   "id": "d5fe03f5-424d-42fa-b0bb-a3a301938350",
   "metadata": {},
   "source": [
    "### In case your data are saved as h5 files"
   ]
  },
  {
   "cell_type": "code",
   "execution_count": 4,
   "id": "a4be422f-a7ba-4f66-8cfc-c7e690eb96c9",
   "metadata": {},
   "outputs": [
    {
     "name": "stdout",
     "output_type": "stream",
     "text": [
      "This folder saves a 3D data\n"
     ]
    }
   ],
   "source": [
    "dataset_folder = './data/demo/data_group/h5file/'\n",
    "orig_3Ddata, ids_3Ddata = fs.load_hdf5_data(dataset_folder, \n",
    "                                            dtype=np.uint8)\n",
    "orig_3Ddata = orig_3Ddata[ids_3Ddata[0]]"
   ]
  },
  {
   "cell_type": "markdown",
   "id": "69df7d06-4449-4183-b4be-166f03d59dda",
   "metadata": {},
   "source": [
    "## Load the segmentation results"
   ]
  },
  {
   "cell_type": "markdown",
   "id": "720c4f15-054d-446f-96bb-94499475131a",
   "metadata": {},
   "source": [
    "### In case your data are saved as images"
   ]
  },
  {
   "cell_type": "code",
   "execution_count": 5,
   "id": "45413d09-3627-476d-9e14-ba676677f4b1",
   "metadata": {},
   "outputs": [],
   "source": [
    "# segmeted_folder = output_dir + '/segm_results_3D/data1/postproc/inner_fibre/'\n",
    "# segm_3Ddata, ids_3Ddata = fs.load_3d_dataset(segmeted_folder)\n",
    "# segm_3Ddata = segm_3Ddata[ids_3Ddata[0]]"
   ]
  },
  {
   "cell_type": "markdown",
   "id": "be8a99bf-b7bf-4709-9da1-d50f616da502",
   "metadata": {},
   "source": [
    "### In case your data are saved as h5 files"
   ]
  },
  {
   "cell_type": "code",
   "execution_count": 7,
   "id": "62dbaa6e-7ae9-4fc4-86eb-1c015ec85db5",
   "metadata": {},
   "outputs": [
    {
     "name": "stdout",
     "output_type": "stream",
     "text": [
      "This folder saves a 3D data\n"
     ]
    }
   ],
   "source": [
    "dataset_folder = output_dir + '/segm_results_3D/3D_datagroup/postproc/h5file/'\n",
    "segm_3Ddata, ids_3Ddata = fs.load_hdf5_data(dataset_folder, \n",
    "                                            dtype=np.uint8)\n",
    "segm_3Ddata = segm_3Ddata[ids_3Ddata[0]]"
   ]
  },
  {
   "cell_type": "markdown",
   "id": "de327f21-f211-4927-ab1e-91943653ad65",
   "metadata": {},
   "source": [
    "## Evaluation 3D slices\n",
    "with fibre number, fibre size, fibre shape"
   ]
  },
  {
   "cell_type": "markdown",
   "id": "2a5b2e00-8a56-43a5-be52-0e45d068cf24",
   "metadata": {},
   "source": [
    "### Sepcify the methods to evaluate"
   ]
  },
  {
   "cell_type": "code",
   "execution_count": 8,
   "id": "4d134932-29e7-4375-98f9-6ad4590feee3",
   "metadata": {},
   "outputs": [
    {
     "name": "stdout",
     "output_type": "stream",
     "text": [
      "./output/demo/evaluate/multiple_slices2D_results/evaluate_metric_pred_label.txt\n"
     ]
    }
   ],
   "source": [
    "file_name = 'evaluate_metric_pred_label.txt'\n",
    "save_path = fs.join(evaluate_dir, file_name)\n",
    "print(save_path)\n",
    "save_data = True\n",
    "evaluate_methods = ['fibre_num', 'fibre_diameter', 'fibre_AspectRatio']"
   ]
  },
  {
   "cell_type": "code",
   "execution_count": 9,
   "id": "150ad0a3-5f69-47c5-aeb1-b5160be552b0",
   "metadata": {},
   "outputs": [
    {
     "ename": "AttributeError",
     "evalue": "module 'fibresegt' has no attribute 'calcu_metrics_eval'",
     "output_type": "error",
     "traceback": [
      "\u001b[1;31m---------------------------------------------------------------------------\u001b[0m",
      "\u001b[1;31mAttributeError\u001b[0m                            Traceback (most recent call last)",
      "\u001b[1;32m<ipython-input-9-4914d36e9951>\u001b[0m in \u001b[0;36m<module>\u001b[1;34m\u001b[0m\n\u001b[1;32m----> 1\u001b[1;33m fs.calcu_metrics_eval(segm_3Ddata, label=None, \n\u001b[0m\u001b[0;32m      2\u001b[0m                       \u001b[0msave_data\u001b[0m\u001b[1;33m=\u001b[0m\u001b[0msave_data\u001b[0m\u001b[1;33m,\u001b[0m\u001b[1;33m\u001b[0m\u001b[1;33m\u001b[0m\u001b[0m\n\u001b[0;32m      3\u001b[0m                       \u001b[0msave_path\u001b[0m\u001b[1;33m=\u001b[0m\u001b[0msave_path\u001b[0m\u001b[1;33m,\u001b[0m\u001b[1;33m\u001b[0m\u001b[1;33m\u001b[0m\u001b[0m\n\u001b[0;32m      4\u001b[0m                       evaluate_methods=evaluate_methods)\n",
      "\u001b[1;31mAttributeError\u001b[0m: module 'fibresegt' has no attribute 'calcu_metrics_eval'"
     ]
    }
   ],
   "source": [
    "fs.calcu_metrics_eval(segm_3Ddata, label=None, \n",
    "                      save_data=save_data, \n",
    "                      save_path=save_path,\n",
    "                      evaluate_methods=evaluate_methods)"
   ]
  },
  {
   "cell_type": "markdown",
   "id": "5d731fa9-9be4-4bfd-9598-86182ababd82",
   "metadata": {},
   "source": [
    "### Overlay the grayscale images and prediction images"
   ]
  },
  {
   "cell_type": "code",
   "execution_count": null,
   "id": "80c2789f-fc2d-45d5-af7a-e5fa61497884",
   "metadata": {},
   "outputs": [],
   "source": [
    "fs.overlay_images(grayimg=orig_3Ddata[0], binaryimg=segm_3Ddata[0], save_fig=True, save_path=save_path)"
   ]
  }
 ],
 "metadata": {
  "kernelspec": {
   "display_name": "pytorch",
   "language": "python",
   "name": "pytorch"
  },
  "language_info": {
   "codemirror_mode": {
    "name": "ipython",
    "version": 3
   },
   "file_extension": ".py",
   "mimetype": "text/x-python",
   "name": "python",
   "nbconvert_exporter": "python",
   "pygments_lexer": "ipython3",
   "version": "3.9.5"
  },
  "widgets": {
   "application/vnd.jupyter.widget-state+json": {
    "state": {},
    "version_major": 2,
    "version_minor": 0
   }
  }
 },
 "nbformat": 4,
 "nbformat_minor": 5
}
