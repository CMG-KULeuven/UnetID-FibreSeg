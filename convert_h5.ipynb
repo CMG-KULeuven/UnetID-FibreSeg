{
 "cells": [
  {
   "cell_type": "markdown",
   "id": "d815d0dc-2800-44b4-8e16-9b2d5dea0202",
   "metadata": {},
   "source": [
    "# Load the h5 file\n",
    "- Author: Rui Guo (KU Leuven), rui.guo1@kuleuven.be"
   ]
  },
  {
   "cell_type": "code",
   "execution_count": null,
   "id": "224bcf0f",
   "metadata": {},
   "outputs": [],
   "source": [
    "import h5py\n",
    "import numpy as np\n",
    "import matplotlib.pyplot as plt\n",
    "import cv2\n",
    "import os\n",
    "import glob\n",
    "from PIL import Image\n",
    "import pylib as py\n",
    "import imlib as im"
   ]
  },
  {
   "cell_type": "markdown",
   "id": "6ee39a55",
   "metadata": {},
   "source": [
    "# Load all files in the folder"
   ]
  },
  {
   "cell_type": "code",
   "execution_count": 15,
   "id": "7ca28865",
   "metadata": {},
   "outputs": [],
   "source": [
    "dataset_folder = 'I:/Segmentation/T17-T18/'"
   ]
  },
  {
   "cell_type": "code",
   "execution_count": 16,
   "id": "de48af30",
   "metadata": {},
   "outputs": [],
   "source": [
    "def read_h5df_names(folder, file_id=None):\n",
    "    fileName_list = os.listdir(folder)\n",
    "    if file_id == None:\n",
    "        h5df_files = []\n",
    "        files_num = len(fileName_list)\n",
    "        for i in range(files_num):\n",
    "            new_fileName_list = [fname[0:-3] for fname in fileName_list]\n",
    "            files = glob.glob(os.path.join(folder+fileName_list[i]))\n",
    "            h5df_files.append(files[0])\n",
    "    else:\n",
    "        h5df_files = glob.glob(os.path.join(folder+fileName_list[file_id]))\n",
    "        # h5df_files = [fname for fname in files][file_id]\n",
    "        new_fileName_list = [fileName_list[file_id][0:-3]]\n",
    "    return h5df_files, new_fileName_list"
   ]
  },
  {
   "cell_type": "code",
   "execution_count": 17,
   "id": "f87bf513",
   "metadata": {},
   "outputs": [
    {
     "data": {
      "text/plain": [
       "(['I:/Segmentation/T17-T18/T700-T-17_10N_650nm_ffc_rec_standard.h5',\n",
       "  'I:/Segmentation/T17-T18/T700-T-17_240N_650nm_ffc_rec_standard.h5',\n",
       "  'I:/Segmentation/T17-T18/T700-T-17_320N_650nm_ffc_rec_standard.h5',\n",
       "  'I:/Segmentation/T17-T18/T700-T-17_360N_650nm_ffc_rec_standard.h5',\n",
       "  'I:/Segmentation/T17-T18/T700-T-17_380N_650nm_ffc_rec_standard.h5',\n",
       "  'I:/Segmentation/T17-T18/T700-T-17_400N_650nm_ffc_rec_standard.h5',\n",
       "  'I:/Segmentation/T17-T18/T700-T-17_80N_650nm_ffc_rec_standard.h5',\n",
       "  'I:/Segmentation/T17-T18/T700-T-18_10N_650nm_ffc_rec_standard.h5',\n",
       "  'I:/Segmentation/T17-T18/T700-T-18_154N_650nm_ffc_rec_standard.h5',\n",
       "  'I:/Segmentation/T17-T18/T700-T-18_231N_650nm_ffc_rec_standard.h5',\n",
       "  'I:/Segmentation/T17-T18/T700-T-18_308N_650nm_ffc_rec_standard.h5',\n",
       "  'I:/Segmentation/T17-T18/T700-T-18_346N_650nm_ffc_rec_standard.h5',\n",
       "  'I:/Segmentation/T17-T18/T700-T-18_366N_650nm_ffc_rec_standard.h5',\n",
       "  'I:/Segmentation/T17-T18/T700-T-18_385N_650nm_ffc_rec_standard.h5',\n",
       "  'I:/Segmentation/T17-T18/T700-T-18_404N_650nm_ffc_rec_standard.h5',\n",
       "  'I:/Segmentation/T17-T18/T700-T-18_77N_650nm_ffc_rec_standard.h5'],\n",
       " ['T700-T-17_10N_650nm_ffc_rec_standard',\n",
       "  'T700-T-17_240N_650nm_ffc_rec_standard',\n",
       "  'T700-T-17_320N_650nm_ffc_rec_standard',\n",
       "  'T700-T-17_360N_650nm_ffc_rec_standard',\n",
       "  'T700-T-17_380N_650nm_ffc_rec_standard',\n",
       "  'T700-T-17_400N_650nm_ffc_rec_standard',\n",
       "  'T700-T-17_80N_650nm_ffc_rec_standard',\n",
       "  'T700-T-18_10N_650nm_ffc_rec_standard',\n",
       "  'T700-T-18_154N_650nm_ffc_rec_standard',\n",
       "  'T700-T-18_231N_650nm_ffc_rec_standard',\n",
       "  'T700-T-18_308N_650nm_ffc_rec_standard',\n",
       "  'T700-T-18_346N_650nm_ffc_rec_standard',\n",
       "  'T700-T-18_366N_650nm_ffc_rec_standard',\n",
       "  'T700-T-18_385N_650nm_ffc_rec_standard',\n",
       "  'T700-T-18_404N_650nm_ffc_rec_standard',\n",
       "  'T700-T-18_77N_650nm_ffc_rec_standard'])"
      ]
     },
     "execution_count": 17,
     "metadata": {},
     "output_type": "execute_result"
    }
   ],
   "source": [
    "h5df_files, new_fileName_list = read_h5df_names(dataset_folder)\n",
    "h5df_files, new_fileName_list"
   ]
  },
  {
   "cell_type": "markdown",
   "id": "658e5b9a",
   "metadata": {},
   "source": [
    "# Load the data"
   ]
  },
  {
   "cell_type": "code",
   "execution_count": 18,
   "id": "be800407",
   "metadata": {},
   "outputs": [],
   "source": [
    "def load_fromH5PY(filename, dtype=np.float16):\n",
    "    with h5py.File(filename, 'r') as hdf:\n",
    "        data = hdf.get('data')\n",
    "        data3D_arr = np.array(data, dtype=dtype)\n",
    "    return data3D_arr"
   ]
  },
  {
   "cell_type": "markdown",
   "id": "b9cd1497",
   "metadata": {},
   "source": [
    "# Load each file and save them into images/h5 files"
   ]
  },
  {
   "cell_type": "code",
   "execution_count": 19,
   "id": "dc03c465",
   "metadata": {},
   "outputs": [],
   "source": [
    "def normalize8(I):\n",
    "    mn = I.min()\n",
    "    mx = I.max()\n",
    "    mx -= mn\n",
    "    I = ((I - mn)/mx) * 255\n",
    "    return I.astype(np.uint8)"
   ]
  },
  {
   "cell_type": "code",
   "execution_count": 20,
   "id": "0399edfb",
   "metadata": {},
   "outputs": [],
   "source": [
    "def save_3Ddata(path, data3D, output_range=None):\n",
    "    if isinstance(data3D, (list, tuple)):\n",
    "        depth = len(data3D)\n",
    "        height, width = data3D[0].shape\n",
    "    else: \n",
    "        depth, height, width = data3D.shape\n",
    "    \n",
    "    if output_range == None:\n",
    "        h_range = [0, height]\n",
    "        w_range = [0, width]\n",
    "    else:\n",
    "        h_range, w_range = output_range\n",
    "    if not os.path.exists(path):\n",
    "        os.makedirs(path)\n",
    "    # Save the 3D CT data into 2D slice image\n",
    "    for i in range(depth):\n",
    "        if isinstance(data3D, (list, tuple)):\n",
    "            data2D_whole = data3D[i][h_range[0]:h_range[1], w_range[0]:w_range[1]]\n",
    "        else:\n",
    "            data2D_whole = data3D[i, h_range[0]:h_range[1], w_range[0]:w_range[1]]\n",
    "        im = Image.fromarray(data2D_whole)\n",
    "        im.save(path + '/slice_'+str(i).zfill(5)+'.tif')"
   ]
  },
  {
   "cell_type": "code",
   "execution_count": 21,
   "id": "0c0dcda8",
   "metadata": {},
   "outputs": [],
   "source": [
    "# new_file_num = len(new_fileName_list)\n",
    "\n",
    "# for i in range(new_file_num):\n",
    "#     path_dir = py.join('I:/Segmentation_Crop', new_fileName_list[i])\n",
    "#     py.mkdir(path_dir)\n",
    "#     # Load data\n",
    "#     data3D_arr = load_fromH5PY(h5df_files[i], dtype=np.float16)\n",
    "#     data3D_arr_uint8 = normalize8(data3D_arr)\n",
    "#     # Save data\n",
    "#     ## 1. Images\n",
    "#     path_dir_no_crop_img = py.join(path_dir, ('Image_No_Crop_'+new_fileName_list[i]))\n",
    "#     py.mkdir(path_dir_no_crop_img)\n",
    "#     save_3Ddata(path_dir_no_crop_img, data3D_arr_uint8, output_range=None)\n",
    "#     path_dir_crop_img = py.join(path_dir, ('Image_Crop_h2100(400-2500)_w600(1000-1600)_'+new_fileName_list[i]))\n",
    "#     py.mkdir(path_dir_crop_img)\n",
    "#     save_3Ddata(path_dir_crop_img, data3D_arr_uint8, output_range=[[400,2500],[1000,1600]])\n",
    "#     ## 2. H5 files\n",
    "#     # This is to save the Uint8 data\n",
    "#     crop_file_name = ('Crop_h2100(400-2500)_w600(1000-1600)_uint8_'+new_fileName_list[i]+'.h5')\n",
    "#     with h5py.File(crop_file_name, 'w') as hdf:\n",
    "#         data3D_arr_uint8 = data3D_arr_uint8[:,400:2500,1000:1600]\n",
    "#         hdf.create_dataset('data', data=data3D_arr_uint8)"
   ]
  },
  {
   "cell_type": "code",
   "execution_count": 22,
   "id": "62a4eaa1",
   "metadata": {},
   "outputs": [
    {
     "data": {
      "text/plain": [
       "'I:/Segmentation_Crop\\\\T700-T-17_80N_650nm_ffc_rec_standard'"
      ]
     },
     "execution_count": 22,
     "metadata": {},
     "output_type": "execute_result"
    }
   ],
   "source": [
    "path_dir = py.join('I:/Segmentation_Crop', new_fileName_list[6])\n",
    "path_dir"
   ]
  },
  {
   "cell_type": "code",
   "execution_count": 23,
   "id": "6e3aa45b",
   "metadata": {},
   "outputs": [
    {
     "name": "stdout",
     "output_type": "stream",
     "text": [
      "I:/Segmentation_Crop\\T700-T-17_80N_650nm_ffc_rec_standard\n"
     ]
    }
   ],
   "source": [
    "i = 6\n",
    "path_dir = py.join('I:/Segmentation_Crop', new_fileName_list[i])\n",
    "py.mkdir(path_dir)\n",
    "print(path_dir)\n",
    "# Load data\n",
    "data3D_arr = load_fromH5PY(h5df_files[i], dtype=np.float16)\n",
    "data3D_arr_uint8 = normalize8(data3D_arr)\n",
    "# Save data\n",
    "## 1. Images\n",
    "# path_dir_no_crop_img = py.join(path_dir, ('Image_No_Crop_'+new_fileName_list[i]))\n",
    "# py.mkdir(path_dir_no_crop_img)\n",
    "# save_3Ddata(path_dir_no_crop_img, data3D_arr_uint8, output_range=None)\n",
    "path_dir_crop_img = py.join(path_dir, ('Image_Crop_h2000(100-2100)_w600(1200-1800)_'+new_fileName_list[i]))\n",
    "py.mkdir(path_dir_crop_img)\n",
    "save_3Ddata(path_dir_crop_img, data3D_arr_uint8, output_range=[[100,2100],[1200,1800]])\n",
    "## 2. H5 files\n",
    "# This is to save the Uint8 data\n",
    "crop_file_name = ('Crop_h2000(100-2100)_w600(1200-1800)_uint8_'+new_fileName_list[i]+'.h5')\n",
    "with h5py.File(crop_file_name, 'w') as hdf:\n",
    "    data3D_arr_uint8 = data3D_arr_uint8[:,100:2100,1200:1800]\n",
    "    hdf.create_dataset('data', data=data3D_arr_uint8)"
   ]
  },
  {
   "cell_type": "code",
   "execution_count": 13,
   "id": "54dbd0f8",
   "metadata": {},
   "outputs": [
    {
     "name": "stdout",
     "output_type": "stream",
     "text": [
      "(2560, 2560)\n",
      "176\n",
      "69\n",
      "uint8\n"
     ]
    },
    {
     "data": {
      "image/png": "[encoded data removed]",
      "text/plain": [
       "<Figure size 432x288 with 1 Axes>"
      ]
     },
     "metadata": {
      "needs_background": "light"
     },
     "output_type": "display_data"
    }
   ],
   "source": [
    "import imageio\n",
    "dataset_folder =  'I:/Segmentation_Crop/T700-T-17_80N_650nm_ffc_rec_standard/Image_No_Crop_T700-T-17_80N_650nm_ffc_rec_standard/'\n",
    "dataset_name = 'slice_00000.tif'\n",
    "dataset_file = py.join(dataset_folder, dataset_name)\n",
    "origData = np.array(imageio.imread(dataset_file))\n",
    "print(origData.shape)\n",
    "print(np.max(origData))\n",
    "print(np.min(origData))\n",
    "print((origData.dtype))\n",
    "\n",
    "plt.figure()\n",
    "plt.imshow(origData[100:2100,1200:1800]/255, cmap='gray')\n",
    "plt.show()"
   ]
  }
 ],
 "metadata": {
  "kernelspec": {
   "display_name": "pytorch",
   "language": "python",
   "name": "pytorch"
  },
  "language_info": {
   "codemirror_mode": {
    "name": "ipython",
    "version": 3
   },
   "file_extension": ".py",
   "mimetype": "text/x-python",
   "name": "python",
   "nbconvert_exporter": "python",
   "pygments_lexer": "ipython3",
   "version": "3.9.5"
  }
 },
 "nbformat": 4,
 "nbformat_minor": 5
}
