{
 "cells": [
  {
   "cell_type": "markdown",
   "id": "4491e3b6",
   "metadata": {},
   "source": [
    "# Segment each fibre for 2D slice with trained UnetID\n",
    "- Author: Rui Guo (KU Leuven), rui.guo1@kuleuven.be\n",
    "- Date: July 2022"
   ]
  },
  {
   "cell_type": "markdown",
   "id": "6220fa17",
   "metadata": {},
   "source": [
    "## Import packages"
   ]
  },
  {
   "cell_type": "code",
   "execution_count": null,
   "id": "0028e0cd",
   "metadata": {},
   "outputs": [],
   "source": [
    "import os\n",
    "import numpy as np\n",
    "import fibresegt as fs\n",
    "import matplotlib.pyplot as plt"
   ]
  },
  {
   "cell_type": "markdown",
   "id": "48b77219",
   "metadata": {},
   "source": [
    "## Path for output and pretained model"
   ]
  },
  {
   "cell_type": "code",
   "execution_count": null,
   "id": "156358fc",
   "metadata": {},
   "outputs": [],
   "source": [
    "# The path for the output results\n",
    "output_dir = './output/demo/'\n",
    "# The path for the trained net model \n",
    "trainedNet_dir = './output/demo/checkpoint/'"
   ]
  },
  {
   "cell_type": "markdown",
   "id": "049b9ca9",
   "metadata": {},
   "source": [
    "## Load the images"
   ]
  },
  {
   "cell_type": "code",
   "execution_count": null,
   "id": "01fc4229",
   "metadata": {},
   "outputs": [],
   "source": [
    "dataset_folder = './data/demo/2DData/'\n",
    "# dataset_name = 'slice_00002.tif'\n",
    "dataset_name = 'slice_00018.tif'"
   ]
  },
  {
   "cell_type": "code",
   "execution_count": null,
   "id": "b5bc0f13",
   "metadata": {},
   "outputs": [],
   "source": [
    "dataset_file = fs.join(dataset_folder + dataset_name)\n",
    "origData = np.array([fs.imread(dataset_file)])"
   ]
  },
  {
   "cell_type": "code",
   "execution_count": null,
   "id": "2a967af1-a937-4b6f-83b5-835fa9dcfc7f",
   "metadata": {},
   "outputs": [],
   "source": [
    "plt.figure()\n",
    "plt.imshow(origData[0,0:512,0:256], cmap='gray')\n",
    "plt.show()"
   ]
  },
  {
   "cell_type": "markdown",
   "id": "27f898a1",
   "metadata": {},
   "source": [
    "## Automatically segment fibre"
   ]
  },
  {
   "cell_type": "markdown",
   "id": "6299e68a-5a05-4b8e-b02b-cb9dbf0922e6",
   "metadata": {},
   "source": [
    "- **1. checkpoint_id**  \n",
    "This is used to which trained model will be used. The default is the last one. You can also specify the specific number\n",
    "- **2. crop_input_shape**   \n",
    "You can simple choose this according to your training image size\n",
    "- **3. save_orig_results**  \n",
    "If you set this variable as True, then the results before prost processing are saved.  \n",
    "In order to save the space, you can set it as False. Then only the results after post processing will be saved.  \n",
    "- **4. hardware_acltr**  \n",
    "You can also use CPU to segment your data. Default is GPU will be used.\n",
    "- **5. postproc_param**  \n",
    "If you don't want to use post processing, you can set it as None.  \n",
    "This post processing is used to remove the noise by using opening operation. \n",
    "The most things you should be careful is the 'kernel', which is morphological structuring element.  For post process, it is important to choose an appropriate parameter for kernel size.  \n",
    "The default is \"kernel\": {\"kernel_shape\":\"disk\", \"kernel_radius\":4}, you can set the kernel radius as 1, 2, 3, 4, 5 according your requirements.  \n",
    "Of course, you can also choose the ellipse kernel shape, now you should input the kernel size instand of kernel radius, such as: {\"kernel_shape\":\"ellipse\", \"kernel_size\":4}. The size you can choose any value as your requirements."
   ]
  },
  {
   "cell_type": "code",
   "execution_count": null,
   "id": "237fb769-a5f3-46d5-b4de-7d9af24ac20e",
   "metadata": {},
   "outputs": [],
   "source": [
    "dataset            = origData[0]\n",
    "net_var            = 'UnetID'\n",
    "output_dir         = output_dir\n",
    "trainedNet_dir     = trainedNet_dir\n",
    "dataset_name       = dataset_name # Default is segm_results_2D\n",
    "checkpoint_id      = 'last_id' # or checkpoint_id=200\n",
    "crop_input_shape   = (64,64,1)\n",
    "save_orig_results  = False \n",
    "hardware_acltr     = 'CPU' # Default is 'GPU'\n",
    "postproc_param     =  {\"method\": \"open\", \"kernel\": {\"kernel_shape\":\"disk\", \"kernel_radius\":4}, \n",
    "                       \"iteration\": 1, \"save_postproc_results\":True} # Remove small artifacts or set it as None if don't want to do any prost processing"
   ]
  },
  {
   "cell_type": "code",
   "execution_count": null,
   "id": "8b17e990",
   "metadata": {},
   "outputs": [],
   "source": [
    "segm_img = fs.apis.segm_2d_data(dataset=dataset, \n",
    "                                net_var=net_var, \n",
    "                                output_dir=output_dir,\n",
    "                                trainedNet_dir=trainedNet_dir,\n",
    "                                dataset_name=dataset_name,\n",
    "                                checkpoint_id='last_id', \n",
    "                                crop_input_shape=(64,64,1),\n",
    "                                save_orig_results=save_orig_results,\n",
    "                                hardware_acltr=hardware_acltr,\n",
    "                                **postproc_param)"
   ]
  },
  {
   "cell_type": "code",
   "execution_count": null,
   "id": "bbfb9cbc-2ebd-492c-86b5-591d0d61a883",
   "metadata": {},
   "outputs": [],
   "source": []
  }
 ],
 "metadata": {
  "kernelspec": {
   "display_name": "pytorch",
   "language": "python",
   "name": "pytorch"
  },
  "language_info": {
   "codemirror_mode": {
    "name": "ipython",
    "version": 3
   },
   "file_extension": ".py",
   "mimetype": "text/x-python",
   "name": "python",
   "nbconvert_exporter": "python",
   "pygments_lexer": "ipython3",
   "version": "3.9.5"
  },
  "widgets": {
   "application/vnd.jupyter.widget-state+json": {
    "state": {},
    "version_major": 2,
    "version_minor": 0
   }
  }
 },
 "nbformat": 4,
 "nbformat_minor": 5
}
