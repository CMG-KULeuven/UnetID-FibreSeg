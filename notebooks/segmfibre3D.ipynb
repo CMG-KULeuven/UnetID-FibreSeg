{
 "cells": [
  {
   "cell_type": "markdown",
   "id": "8b8a830e",
   "metadata": {},
   "source": [
    "# Segment each fibre for 3D volume with trained UnetID\n",
    "- Author: Rui Guo (KU Leuven), rui.guo1@kuleuven.be\n",
    "- Date: Jan 2023"
   ]
  },
  {
   "cell_type": "markdown",
   "id": "6009ad1f",
   "metadata": {},
   "source": [
    "## Import packages"
   ]
  },
  {
   "cell_type": "code",
   "execution_count": null,
   "id": "1815a251",
   "metadata": {},
   "outputs": [],
   "source": [
    "import fibresegt as fs\n",
    "import numpy as np\n",
    "import matplotlib.pyplot as plt"
   ]
  },
  {
   "cell_type": "markdown",
   "id": "206c2e50",
   "metadata": {},
   "source": [
    "## Path for output and pretained model"
   ]
  },
  {
   "cell_type": "code",
   "execution_count": null,
   "id": "525805de",
   "metadata": {},
   "outputs": [],
   "source": [
    "output_dir = './output/demo/'\n",
    "trainedNet_dir = fs.join(output_dir, 'checkpoint/')"
   ]
  },
  {
   "cell_type": "markdown",
   "id": "66f27d01",
   "metadata": {},
   "source": [
    "## Load data"
   ]
  },
  {
   "cell_type": "markdown",
   "id": "ac4d29f4-76ff-4b8f-8e83-cf172d8ee2e1",
   "metadata": {},
   "source": [
    "### In case your data are saved as images"
   ]
  },
  {
   "cell_type": "code",
   "execution_count": null,
   "id": "287c0e97-2f75-4516-9634-9ec9538cf0cc",
   "metadata": {},
   "outputs": [],
   "source": [
    "dataset_folder_img = './data/demo/data_group/images/'\n",
    "orig_3Ddata, ids_3Ddata = fs.load_3d_dataset(dataset_folder_img)"
   ]
  },
  {
   "cell_type": "markdown",
   "id": "e09f2d0c-e6b9-4c80-83df-d0fc39354c7a",
   "metadata": {},
   "source": [
    "### In case your data are saved as h5 files"
   ]
  },
  {
   "cell_type": "code",
   "execution_count": null,
   "id": "a6e63d36",
   "metadata": {},
   "outputs": [],
   "source": [
    "# dataset_folder = './data/demo/data_group/h5file/'\n",
    "# orig_3Ddata, ids_3Ddata = fs.load_hdf5_data(dataset_folder, \n",
    "#                                             dtype=np.uint8) "
   ]
  },
  {
   "cell_type": "markdown",
   "id": "ea2e1576",
   "metadata": {},
   "source": [
    "## Visulize data\n",
    "- **set_id:** Specify which sets of data you want to see\n",
    "- **visulize_plane_range:** Specify which plane and plane size of the data you want to see\n",
    "- **overlay:** Set True if you want to see the overlay results"
   ]
  },
  {
   "cell_type": "code",
   "execution_count": null,
   "id": "3ab3fe41",
   "metadata": {},
   "outputs": [],
   "source": [
    "data_list = [orig_3Ddata]\n",
    "set_id = ids_3Ddata[0]\n",
    "slice_range, height_range, width_range = [0], [0, 1000],[0, 1000]\n",
    "# slice_range, height_range, width_range = [0, 200], [0],[0, 200]\n",
    "# slice_range, height_range, width_range = [0, 200], [0, 200], [0]\n",
    "\n",
    "visulize_plane_range = [slice_range, height_range, width_range]"
   ]
  },
  {
   "cell_type": "code",
   "execution_count": null,
   "id": "8823e532",
   "metadata": {},
   "outputs": [],
   "source": [
    "fs.visualize_3d_data(data_list, set_id, visulize_plane_range)"
   ]
  },
  {
   "cell_type": "markdown",
   "id": "2c192f41",
   "metadata": {},
   "source": [
    "## Automatically segment fibre"
   ]
  },
  {
   "cell_type": "markdown",
   "id": "2d5eac67-5be4-4e59-bfdc-df5ec95cad1b",
   "metadata": {},
   "source": [
    "- **1. checkpoint_id**  \n",
    "This is used to which trained model will be used. The default is the last one. You can also specify the specific number\n",
    "- **2. crop_input_shape**   \n",
    "You can simple choose this according to your training image size\n",
    "- **3. batch_size**   \n",
    "The size is used to segment multiple slices at the same time.\n",
    "- **4. save_image_num**   \n",
    "You can set 10, then only 10 images are saved. The default value is 'full', which means all data will be saved.\n",
    "- **5. save_info**   \n",
    "Only the inner fibre are saved by setting it as 'inner', or 'default', then all information (inner, edge, whole fibre) are saved. \n",
    "- **6. save_orig_results**  \n",
    "If you set this variable as True, then the results before prost processing are saved.  \n",
    "In order to save the space, you can set it as False. Then only the results after post processing will be saved.  \n",
    "- **7. hardware_acltr**  \n",
    "You can also use CPU to segment your data. Default is GPU will be used.\n",
    "- **8. postproc_param**  \n",
    "If you don't want to use post processing, you can set it as None.  \n",
    "This post processing is used to remove the noise by using opening operation. So you don't need to change the method.  \n",
    "The most things you should be careful is the 'kernel', which is morphological structuring element.  For post process, it is important to choose an appropriate parameter for kernel size.  \n",
    "The default is \"kernel\": {\"kernel_shape\":\"disk\", \"kernel_radius\":4}, you can set the kernel radius as 1, 2, 3, 4, 5 according your requirements.  \n",
    "Of course, you can also choose the ellipse kernel shape, now you should input the kernel size instand of kernel radius, such as: {\"kernel_shape\":\"ellipse\", \"kernel_size\":4}. The size you can choose any value as your requirements."
   ]
  },
  {
   "cell_type": "code",
   "execution_count": null,
   "id": "449474e2",
   "metadata": {},
   "outputs": [],
   "source": [
    "dataset            = orig_3Ddata\n",
    "net_var            = 'UnetID'\n",
    "output_dir         = output_dir\n",
    "trainedNet_dir     = trainedNet_dir\n",
    "dataset_name       = 'Default' # Default is segm_results_3D\n",
    "checkpoint_id      = 'last_id' # or checkpoint_id=200\n",
    "crop_slice_shape   = (64,64,1)\n",
    "batch_size         = 500 # You can set it small if your image size is large.\n",
    "save_format        = ['H5', 'png']\n",
    "save_image_num     = 'Full' \n",
    "save_info          = 'default' \n",
    "save_orig_results  = False\n",
    "hardware_acltr     = 'GPU' # Default is 'GPU'\n",
    "load_checkpoint    = True\n",
    "postproc_param     =  {\"method\": \"open\", \"kernel\": {\"kernel_shape\":\"disk\", \"kernel_radius\":4}, \n",
    "                       \"iteration\": 1, \"save_postproc_results\":True} # Remove small artifacts"
   ]
  },
  {
   "cell_type": "code",
   "execution_count": null,
   "id": "129b32ec",
   "metadata": {},
   "outputs": [],
   "source": [
    "fs.apis.segm_3d_data(dataset=dataset, \n",
    "                    net_var=net_var, \n",
    "                    output_dir=output_dir,\n",
    "                    trainedNet_dir=trainedNet_dir,\n",
    "                    dataset_name=dataset_name,\n",
    "                    checkpoint_id=checkpoint_id, \n",
    "                    crop_slice_shape=crop_slice_shape,\n",
    "                    batch_size=batch_size,\n",
    "                    save_format=save_format,\n",
    "                    save_image_num=save_image_num,\n",
    "                    save_info=save_info, \n",
    "                    save_orig_results=save_orig_results,\n",
    "                    hardware_acltr=hardware_acltr,\n",
    "                    load_checkpoint=load_checkpoint,\n",
    "                    **postproc_param)"
   ]
  },
  {
   "cell_type": "markdown",
   "id": "2617dfaf-f327-415a-a383-63d3b03a6d8b",
   "metadata": {},
   "source": []
  },
  {
   "cell_type": "code",
   "execution_count": null,
   "id": "2301e803-fa37-47f3-99bb-c64593794b72",
   "metadata": {},
   "outputs": [],
   "source": []
  }
 ],
 "metadata": {
  "kernelspec": {
   "display_name": "pytorch",
   "language": "python",
   "name": "pytorch"
  },
  "language_info": {
   "codemirror_mode": {
    "name": "ipython",
    "version": 3
   },
   "file_extension": ".py",
   "mimetype": "text/x-python",
   "name": "python",
   "nbconvert_exporter": "python",
   "pygments_lexer": "ipython3",
   "version": "3.9.5"
  },
  "widgets": {
   "application/vnd.jupyter.widget-state+json": {
    "state": {},
    "version_major": 2,
    "version_minor": 0
   }
  }
 },
 "nbformat": 4,
 "nbformat_minor": 5
}
