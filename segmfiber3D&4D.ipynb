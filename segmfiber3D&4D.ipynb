{
 "cells": [
  {
   "cell_type": "markdown",
   "id": "8b8a830e",
   "metadata": {},
   "source": [
    "# Segment each fibre for 3D/4D slice with trained UnetID\n",
    "- Author: Rui Guo (KU Leuven), rui.guo1@kuleuven.be\n",
    "- Date: July 13 2022"
   ]
  },
  {
   "cell_type": "markdown",
   "id": "6009ad1f",
   "metadata": {},
   "source": [
    "## Import packages"
   ]
  },
  {
   "cell_type": "code",
   "execution_count": null,
   "id": "1815a251",
   "metadata": {},
   "outputs": [],
   "source": [
    "import imlib as im\n",
    "import pylib as py\n",
    "import torchlib as tl\n",
    "import torchsegnet as tn\n",
    "import os\n",
    "import imageio\n",
    "import numpy as np\n",
    "import matplotlib.pyplot as plt\n",
    "import time"
   ]
  },
  {
   "cell_type": "markdown",
   "id": "206c2e50",
   "metadata": {},
   "source": [
    "## Path for output and pretained model"
   ]
  },
  {
   "cell_type": "code",
   "execution_count": null,
   "id": "525805de",
   "metadata": {},
   "outputs": [],
   "source": [
    "output_dir = './output/T700-T-17/3D&4DData_Group/'\n",
    "trainedNet_dir = './output/T700-T-17/model/visionary-disco-21/'"
   ]
  },
  {
   "cell_type": "markdown",
   "id": "66f27d01",
   "metadata": {},
   "source": [
    "## Load data"
   ]
  },
  {
   "cell_type": "code",
   "execution_count": null,
   "id": "a6e63d36",
   "metadata": {},
   "outputs": [],
   "source": [
    "# If the data are saved as h5 files\n",
    "# The value of file_id starts from 0\n",
    "dataset_folder = './data/T700-T-17/3D&4DData_Group/4Ddemo/h5/'\n",
    "orig_3D4DData, new_fileName_list = im.load_fromH5PY(dataset_folder, \n",
    "                                                 file_id=None, \n",
    "                                                 dtype=np.uint8) "
   ]
  },
  {
   "cell_type": "code",
   "execution_count": null,
   "id": "5b001da5",
   "metadata": {
    "scrolled": true,
    "tags": []
   },
   "outputs": [],
   "source": [
    "# If the data are saved as images\n",
    "# dataset_folder_img = './data/T700-T-17/3D&4DData_Group/4Ddemo/images/'\n",
    "# orig_3D4DData, ids_3D4Ddata = im.read_3D4Ddata(dataset_folder_img)"
   ]
  },
  {
   "cell_type": "markdown",
   "id": "ea2e1576",
   "metadata": {},
   "source": [
    "## Visulize data\n",
    "- **set_id:** Specify which sets of data you want to see\n",
    "- **visulize_plane_range:** Specify which plane and plane size of the data you want to see\n",
    "- **overlay:** Set True if you want to see the overlay results"
   ]
  },
  {
   "cell_type": "code",
   "execution_count": null,
   "id": "3ab3fe41",
   "metadata": {},
   "outputs": [],
   "source": [
    "data_list = [orig_3D4DData]\n",
    "set_id = new_fileName_list[0]\n",
    "slice_range, height_range, width_range = [0], [0, 200],[0, 200]\n",
    "# slice_range, height_range, width_range = [0, 200], [0],[0, 200]\n",
    "# slice_range, height_range, width_range = [0, 200], [0, 200], [0]\n",
    "\n",
    "visulize_plane_range = [slice_range, height_range, width_range]\n",
    "overlay = False\n",
    "show_model=None"
   ]
  },
  {
   "cell_type": "code",
   "execution_count": null,
   "id": "8823e532",
   "metadata": {},
   "outputs": [],
   "source": [
    "im.visulize_3D4Ddata(data_list, set_id, visulize_plane_range, overlay=False, show_model=None)"
   ]
  },
  {
   "cell_type": "markdown",
   "id": "2c192f41",
   "metadata": {},
   "source": [
    "## Automatically segment fibre"
   ]
  },
  {
   "cell_type": "code",
   "execution_count": null,
   "id": "449474e2",
   "metadata": {},
   "outputs": [],
   "source": [
    "dataset            = orig_3D4DData\n",
    "net_var            = 'UnetID'\n",
    "output_dir         = output_dir\n",
    "trainedNet_dir     = trainedNet_dir\n",
    "dataset_name       = 'Default' # Default is segm_results_3D4D\n",
    "checkpoint_id      = 'last_id' # or checkpoint_id=200\n",
    "crop_slice_shape   = (64,64,1)\n",
    "constant_value     = 0 # This value is mainly used to consider the edge effects\n",
    "out_threshold      = 0.5\n",
    "save_format        = ['H5', 'png']\n",
    "postproc_param     =  {\"method\": \"open\", \"kernel\": \"matlab_kernel(7)\", \n",
    "                       \"iteration\": 1, 'save_postproc_results':True} # Remove small artifacts\n",
    "load_checkpoint    = False\n",
    "load_trainingmodel = True"
   ]
  },
  {
   "cell_type": "code",
   "execution_count": null,
   "id": "129b32ec",
   "metadata": {},
   "outputs": [],
   "source": [
    "start_t = time.time()\n",
    "tn.segm_3D4D(dataset=dataset, \n",
    "            net_var=net_var, \n",
    "            output_dir=output_dir,\n",
    "            trainedNet_dir=trainedNet_dir,\n",
    "            dataset_name=dataset_name,\n",
    "            checkpoint_id='last_id', \n",
    "            crop_slice_shape=(64,64,1),\n",
    "            constant_value=constant_value,\n",
    "            out_threshold=0.5,\n",
    "            save_format=save_format,\n",
    "            load_checkpoint=load_checkpoint,\n",
    "            load_trainingmodel=load_trainingmodel,\n",
    "            **postproc_param)\n",
    "end_t = time.time()\n",
    "print('cost: ', end_t-start_t)"
   ]
  }
 ],
 "metadata": {
  "kernelspec": {
   "display_name": "unetbasedsegm_torch1.9",
   "language": "python",
   "name": "unetbasedsegm_torch1.9"
  },
  "language_info": {
   "codemirror_mode": {
    "name": "ipython",
    "version": 3
   },
   "file_extension": ".py",
   "mimetype": "text/x-python",
   "name": "python",
   "nbconvert_exporter": "python",
   "pygments_lexer": "ipython3",
   "version": "3.9.5"
  }
 },
 "nbformat": 4,
 "nbformat_minor": 5
}
