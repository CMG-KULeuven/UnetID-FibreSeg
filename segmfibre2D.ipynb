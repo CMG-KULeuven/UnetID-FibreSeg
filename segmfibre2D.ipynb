{
 "cells": [
  {
   "cell_type": "markdown",
   "id": "4491e3b6",
   "metadata": {},
   "source": [
    "# Segment each fibre for 2D slice with trained UnetID\n",
    "- Author: Rui Guo (KU Leuven), rui.guo1@kuleuven.be\n",
    "- Date: July 11 2022"
   ]
  },
  {
   "cell_type": "markdown",
   "id": "6220fa17",
   "metadata": {},
   "source": [
    "## Import packages"
   ]
  },
  {
   "cell_type": "code",
   "execution_count": null,
   "id": "0028e0cd",
   "metadata": {
    "vscode": {
     "languageId": "python"
    }
   },
   "outputs": [],
   "source": [
    "import imlib as im\n",
    "import pylib as py\n",
    "import torchlib as tl\n",
    "import torchsegnet as tn\n",
    "import os\n",
    "import imageio\n",
    "import numpy as np\n",
    "import time\n",
    "import matplotlib.pyplot as plt\n",
    "import cv2 as cv"
   ]
  },
  {
   "cell_type": "markdown",
   "id": "48b77219",
   "metadata": {},
   "source": [
    "## Path for output and pretained model"
   ]
  },
  {
   "cell_type": "code",
   "execution_count": null,
   "id": "156358fc",
   "metadata": {
    "vscode": {
     "languageId": "python"
    }
   },
   "outputs": [],
   "source": [
    "# The path for the output results\n",
    "output_dir = './output/T700-T-17/2DData/'\n",
    "# The path for the trained net model \n",
    "trainedNet_dir = './output/T700-T-17/model/visionary-disco-21/'"
   ]
  },
  {
   "cell_type": "markdown",
   "id": "049b9ca9",
   "metadata": {},
   "source": [
    "## Load the images"
   ]
  },
  {
   "cell_type": "code",
   "execution_count": null,
   "id": "01fc4229",
   "metadata": {
    "vscode": {
     "languageId": "python"
    }
   },
   "outputs": [],
   "source": [
    "dataset_folder = './data/T700-T-17/2DData/'\n",
    "dataset_name = '10N_slice_00009.tif'"
   ]
  },
  {
   "cell_type": "code",
   "execution_count": null,
   "id": "b5bc0f13",
   "metadata": {
    "vscode": {
     "languageId": "python"
    }
   },
   "outputs": [],
   "source": [
    "dataset_file = os.path.join(dataset_folder + dataset_name)\n",
    "origData = np.array([imageio.imread(dataset_file)])"
   ]
  },
  {
   "cell_type": "code",
   "execution_count": null,
   "id": "2a967af1-a937-4b6f-83b5-835fa9dcfc7f",
   "metadata": {
    "vscode": {
     "languageId": "python"
    }
   },
   "outputs": [],
   "source": [
    "plt.figure()\n",
    "print(origData.shape)\n",
    "print(np.max(origData))\n",
    "print(np.min(origData))\n",
    "print(np.mean(origData))\n",
    "print(np.std(origData))\n",
    "\n",
    "plt.imshow(origData[0,0:512,0:256], cmap='gray')\n",
    "plt.show()"
   ]
  },
  {
   "cell_type": "markdown",
   "id": "27f898a1",
   "metadata": {},
   "source": [
    "## Automatically segment fibre"
   ]
  },
  {
   "cell_type": "code",
   "execution_count": null,
   "id": "237fb769-a5f3-46d5-b4de-7d9af24ac20e",
   "metadata": {
    "vscode": {
     "languageId": "python"
    }
   },
   "outputs": [],
   "source": [
    "dataset            = origData[0]\n",
    "net_var            = 'UnetID'\n",
    "output_dir         = output_dir\n",
    "trainedNet_dir     = trainedNet_dir\n",
    "dataset_name       = dataset_name # Default is segm_results_2D\n",
    "checkpoint_id      = 'last_id' # or checkpoint_id=200\n",
    "crop_input_shape   = (64,64,1)\n",
    "constant_value     = 0 # This value is mainly used to consider the edge effects\n",
    "out_threshold      = 0.5\n",
    "pro_process        = True\n",
    "postproc_param     =  {\"method\": \"open\", \"kernel\": \"matlab_kernel(7)\", \n",
    "                       \"iteration\": 1, 'save_postproc_results':True} # Remove small artifacts\n",
    "load_checkpoint    = False\n",
    "load_trainingmodel = True"
   ]
  },
  {
   "cell_type": "code",
   "execution_count": null,
   "id": "8b17e990",
   "metadata": {
    "vscode": {
     "languageId": "python"
    }
   },
   "outputs": [],
   "source": [
    "start_t = time.time()\n",
    "segm_img = tn.segm_2D(dataset=dataset, \n",
    "                      net_var=net_var, \n",
    "                      output_dir=output_dir,\n",
    "                      trainedNet_dir=trainedNet_dir,\n",
    "                      dataset_name=dataset_name,\n",
    "                      checkpoint_id='last_id', \n",
    "                      crop_input_shape=(64,64,1),\n",
    "                      constant_value=constant_value,\n",
    "                      out_threshold=0.5,\n",
    "                      load_checkpoint=load_checkpoint,\n",
    "                      load_trainingmodel=load_trainingmodel,\n",
    "                      **postproc_param)\n",
    "end_t = time.time()\n",
    "print('cost: ', end_t-start_t)"
   ]
  },
  {
   "cell_type": "markdown",
   "id": "e7eac0b1-4cdc-47fc-9cf0-0da2da00978d",
   "metadata": {},
   "source": [
    "## Visulize the results\n",
    "The whole visulize area is the whole image"
   ]
  },
  {
   "cell_type": "code",
   "execution_count": null,
   "id": "556030f3-e897-4dfd-864c-3bf77d2814b8",
   "metadata": {
    "vscode": {
     "languageId": "python"
    }
   },
   "outputs": [],
   "source": [
    "img_size = origData[0].shape\n",
    "print(origData[0].shape)\n",
    "whole_visulize_area = [[0, img_size[0]], [0, img_size[1]]]"
   ]
  },
  {
   "cell_type": "code",
   "execution_count": null,
   "id": "1f08864b-c6f6-4f61-874b-8292e5370ac2",
   "metadata": {
    "vscode": {
     "languageId": "python"
    }
   },
   "outputs": [],
   "source": [
    "# Specify the area you want to show\n",
    "crop_visulize_area = [[600, 800], [120, 350]] "
   ]
  },
  {
   "cell_type": "code",
   "execution_count": null,
   "id": "acebb662-fb45-474f-b4ce-e9e308071d8a",
   "metadata": {
    "vscode": {
     "languageId": "python"
    }
   },
   "outputs": [],
   "source": [
    "show_model = 'inner fibre'\n",
    "overlay_img = im.overlay(origData[0], segm_img, visulize_area=crop_visulize_area, show_model=show_model)"
   ]
  },
  {
   "cell_type": "code",
   "execution_count": null,
   "id": "e2f9c852-d594-4bb8-9fba-bf001da807f1",
   "metadata": {},
   "outputs": [],
   "source": []
  }
 ],
 "metadata": {
  "kernelspec": {
   "display_name": "unetbasedsegm_torch1.9",
   "language": "python",
   "name": "unetbasedsegm_torch1.9"
  },
  "language_info": {
   "codemirror_mode": {
    "name": "ipython",
    "version": 3
   },
   "file_extension": ".py",
   "mimetype": "text/x-python",
   "name": "python",
   "nbconvert_exporter": "python",
   "pygments_lexer": "ipython3",
   "version": "3.9.5"
  }
 },
 "nbformat": 4,
 "nbformat_minor": 5
}
