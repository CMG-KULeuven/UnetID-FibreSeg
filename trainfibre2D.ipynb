{
 "cells": [
  {
   "cell_type": "markdown",
   "id": "e7a92bda",
   "metadata": {},
   "source": [
    "# Train the Unet_ID to segment each fibre\n",
    "- Author: Rui Guo (KU Leuven), rui.guo1@kuleuven.be\n",
    "- Date: July 08 2022"
   ]
  },
  {
   "cell_type": "markdown",
   "id": "0ef4aaef",
   "metadata": {},
   "source": [
    "## Import packages"
   ]
  },
  {
   "cell_type": "code",
   "execution_count": null,
   "id": "f764613a",
   "metadata": {},
   "outputs": [],
   "source": [
    "import imageio\n",
    "import numpy as np\n",
    "import imlib as im\n",
    "import pylib as py\n",
    "import torchsegnet as tn\n",
    "import matplotlib.pyplot as plt\n",
    "from PIL import Image"
   ]
  },
  {
   "cell_type": "markdown",
   "id": "45aa1572",
   "metadata": {},
   "source": [
    "## Specify the output folder you want to save"
   ]
  },
  {
   "cell_type": "code",
   "execution_count": null,
   "id": "d47d11c0",
   "metadata": {},
   "outputs": [],
   "source": [
    "output_dir = './output/T700-T-17/'"
   ]
  },
  {
   "cell_type": "markdown",
   "id": "c9cdc41c",
   "metadata": {},
   "source": [
    "## Load the images\n",
    "Get the images from the data folder.  \n",
    "Notice: only one image is required during the training"
   ]
  },
  {
   "cell_type": "code",
   "execution_count": null,
   "id": "3c421d53",
   "metadata": {},
   "outputs": [],
   "source": [
    "# These two variable needs to be changed according to your purpose\n",
    "dataset_folder = './data/T700-T-17/Training_Data/grayscale_slice/'\n",
    "dataset_name = 'crop_h500(500_1000)_w250(1150_1400)_T17_10N_slice_00000.png'"
   ]
  },
  {
   "cell_type": "code",
   "execution_count": null,
   "id": "16bb47f7",
   "metadata": {},
   "outputs": [],
   "source": [
    "dataset_file = py.join(dataset_folder, dataset_name)\n",
    "origData = np.array(imageio.imread(dataset_file))\n",
    "print(origData.shape)\n",
    "print(np.max(origData))\n",
    "print(np.min(origData))\n",
    "print((origData.dtype))\n",
    "\n",
    "plt.figure()\n",
    "plt.imshow(origData[0:512,0:256], cmap='gray')\n",
    "plt.show()"
   ]
  },
  {
   "cell_type": "code",
   "execution_count": null,
   "id": "93ba74a5",
   "metadata": {},
   "outputs": [],
   "source": [
    "# im = Image.fromarray(origData[0:500,0:256])\n",
    "# im.save(dataset_folder + '/crop_slice_'+str(0).zfill(5)+'.tif')"
   ]
  },
  {
   "cell_type": "markdown",
   "id": "d4c8aeea",
   "metadata": {},
   "source": [
    "## Create or load masks"
   ]
  },
  {
   "cell_type": "code",
   "execution_count": null,
   "id": "79f41ef7",
   "metadata": {},
   "outputs": [],
   "source": [
    "label_folder = './data/T700-T-17/Training_Data/mask_slice/'\n",
    "label_name = 'Masks_crop_h500(500_1000)_w250(1150_1400)_T17_10N_slice_00000.png'"
   ]
  },
  {
   "cell_type": "code",
   "execution_count": null,
   "id": "ed5de9ae",
   "metadata": {},
   "outputs": [],
   "source": [
    "label_file = py.join(label_folder + label_name)"
   ]
  },
  {
   "cell_type": "markdown",
   "id": "37c39cf2",
   "metadata": {},
   "source": [
    "### (A) Manual annotation\n",
    "If you don't have the label for your dataset, you need to annotate it first."
   ]
  },
  {
   "cell_type": "code",
   "execution_count": null,
   "id": "20e9c059",
   "metadata": {},
   "outputs": [],
   "source": [
    "# py.annotate(origData, label_file)"
   ]
  },
  {
   "cell_type": "markdown",
   "id": "7370bff9",
   "metadata": {},
   "source": [
    "### (B) Load the masks\n",
    "If you have the label for your dataset already, you don't need to annotate again, just import it"
   ]
  },
  {
   "cell_type": "code",
   "execution_count": null,
   "id": "35128fa3",
   "metadata": {},
   "outputs": [],
   "source": [
    "labelInnerFibre = np.array(imageio.imread(label_file))\n",
    "if labelInnerFibre.ndim > 2:\n",
    "    labelInnerFibre = labelInnerFibre[:,:,0]\n",
    "print(labelInnerFibre.shape)\n",
    "plt.figure()\n",
    "plt.imshow(labelInnerFibre, cmap='gray')\n",
    "plt.show()"
   ]
  },
  {
   "cell_type": "markdown",
   "id": "f35ebb9a",
   "metadata": {},
   "source": [
    "## Sample  \n",
    "- **1. Choose the image size**  \n",
    "This is used to set the image size for samples\n",
    "- **2. Choose the stride_step for training and validation**   \n",
    "This is used to set how to sample the images. If the step size is equal to the image size, then there will not be overlapping areas."
   ]
  },
  {
   "cell_type": "code",
   "execution_count": null,
   "id": "740b8740",
   "metadata": {},
   "outputs": [],
   "source": [
    "image_size = (64, 64)\n",
    "train_stride_step = 8"
   ]
  },
  {
   "cell_type": "code",
   "execution_count": null,
   "id": "209a4b22",
   "metadata": {
    "scrolled": true
   },
   "outputs": [],
   "source": [
    "Data = py.sample(data=[origData, labelInnerFibre], stride_step=train_stride_step, data_shape=image_size, shrink_size=0, show_img=True)"
   ]
  },
  {
   "cell_type": "markdown",
   "id": "babb9396",
   "metadata": {},
   "source": [
    "## Train the model"
   ]
  },
  {
   "cell_type": "code",
   "execution_count": null,
   "id": "29e94ce6",
   "metadata": {},
   "outputs": [],
   "source": [
    "val_percent        = 0.2 # The probability to split the data as training and testing\n",
    "epochs             = 200\n",
    "batch_size         = 16\n",
    "learning_rate      = 0.001\n",
    "net_var            = 'UnetID'\n",
    "save_checkpoint    = True\n",
    "save_trainingmodel = True"
   ]
  },
  {
   "cell_type": "code",
   "execution_count": null,
   "id": "8a58a942",
   "metadata": {},
   "outputs": [],
   "source": [
    "tn.train_net(Data, image_size, output_dir, val_percent, epochs, batch_size,\n",
    "             learning_rate, net_var, save_checkpoint, save_trainingmodel, amp=False)"
   ]
  },
  {
   "cell_type": "code",
   "execution_count": null,
   "id": "2dc7711d",
   "metadata": {},
   "outputs": [],
   "source": []
  }
 ],
 "metadata": {
  "kernelspec": {
   "display_name": "pytorch",
   "language": "python",
   "name": "pytorch"
  },
  "language_info": {
   "codemirror_mode": {
    "name": "ipython",
    "version": 3
   },
   "file_extension": ".py",
   "mimetype": "text/x-python",
   "name": "python",
   "nbconvert_exporter": "python",
   "pygments_lexer": "ipython3",
   "version": "3.9.5"
  },
  "vscode": {
   "interpreter": {
    "hash": "6101ffe372936956a9fe06ac5712653a4b4e7ea1cd4b3a5cf2e29e99cbc16662"
   }
  }
 },
 "nbformat": 4,
 "nbformat_minor": 5
}
